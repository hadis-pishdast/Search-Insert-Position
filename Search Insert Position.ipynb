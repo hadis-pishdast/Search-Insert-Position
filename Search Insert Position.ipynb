{
 "cells": [
  {
   "cell_type": "code",
   "execution_count": 2,
   "metadata": {},
   "outputs": [],
   "source": [
    "class Solution:\n",
    "    def searchInsert(self, nums, target):\n",
    "         \n",
    "            i = 0\n",
    "            index = 0\n",
    "            if  target in nums:\n",
    "                while i < len(nums):\n",
    "                    if nums[i] == target:\n",
    "                        index = i\n",
    "                        i += 1\n",
    "                    else:\n",
    "                        i += 1\n",
    "            else:\n",
    "                nums.append(target)\n",
    "                nums.sort()\n",
    "                index = nums.index(target)\n",
    "            return index        \n",
    "                "
   ]
  },
  {
   "cell_type": "code",
   "execution_count": null,
   "metadata": {},
   "outputs": [],
   "source": []
  }
 ],
 "metadata": {
  "kernelspec": {
   "display_name": "Python 3",
   "language": "python",
   "name": "python3"
  },
  "language_info": {
   "codemirror_mode": {
    "name": "ipython",
    "version": 3
   },
   "file_extension": ".py",
   "mimetype": "text/x-python",
   "name": "python",
   "nbconvert_exporter": "python",
   "pygments_lexer": "ipython3",
   "version": "3.7.0"
  }
 },
 "nbformat": 4,
 "nbformat_minor": 4
}
